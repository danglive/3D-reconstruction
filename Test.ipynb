{
  "nbformat": 4,
  "nbformat_minor": 0,
  "metadata": {
    "colab": {
      "name": "Test.ipynb",
      "provenance": [],
      "include_colab_link": true
    },
    "kernelspec": {
      "name": "python3",
      "display_name": "Python 3"
    }
  },
  "cells": [
    {
      "cell_type": "markdown",
      "metadata": {
        "id": "view-in-github",
        "colab_type": "text"
      },
      "source": [
        "<a href=\"https://colab.research.google.com/github/danglive/3D-reconstruction/blob/master/Test.ipynb\" target=\"_parent\"><img src=\"https://colab.research.google.com/assets/colab-badge.svg\" alt=\"Open In Colab\"/></a>"
      ]
    },
    {
      "cell_type": "code",
      "metadata": {
        "id": "ByL37b0RpGU3",
        "colab_type": "code",
        "colab": {}
      },
      "source": [
        "import numpy as np"
      ],
      "execution_count": 0,
      "outputs": []
    },
    {
      "cell_type": "code",
      "metadata": {
        "id": "fShCz4ltpIa8",
        "colab_type": "code",
        "colab": {}
      },
      "source": [
        "def Projected_matrix(alpha,theta,tx,ty):\n",
        "  alpha = alpha*np.pi/180\n",
        "  theta = theta*np.pi/180\n",
        "  P= np.array([[1, 0, np.cos(alpha)/np.tan(theta), tx],\n",
        "               [0, 1, np.sin(alpha)/np.tan(theta), ty],\n",
        "               [0, 0, 0,                           1] \n",
        "               ]).astype('float32')\n",
        "  return P\n"
      ],
      "execution_count": 0,
      "outputs": []
    },
    {
      "cell_type": "code",
      "metadata": {
        "id": "G2VWX89HrF7W",
        "colab_type": "code",
        "colab": {}
      },
      "source": [
        "Nprj = 54\n",
        "Phi = 2*np.random.rand(Nprj)-1\n",
        "Alpha = 8*np.random.rand(Nprj)-4\n",
        "Tx = 10*np.random.rand(Nprj)-5\n",
        "Ty = 10*np.random.rand(Nprj)-5"
      ],
      "execution_count": 0,
      "outputs": []
    },
    {
      "cell_type": "code",
      "metadata": {
        "id": "1dxGIfWjvo1L",
        "colab_type": "code",
        "colab": {}
      },
      "source": [
        "def Global_matrix(Alpha,Phi,Tx,Ty):\n",
        "  Nprj = 54\n",
        "  Angle = np.linspace(-56,50,Nprj).astype(('float32'))\n",
        "  Theta = Angle + Phi\n",
        "  Matrix = np.zeros((3*Nprj,4)).astype('float32')\n",
        "  for i in range(Nprj):\n",
        "    Matrix[3*i:3*i+3,:] = Projected_matrix(Alpha[i],Theta[i],Tx[i],Ty[i])\n",
        "  return Matrix"
      ],
      "execution_count": 0,
      "outputs": []
    },
    {
      "cell_type": "code",
      "metadata": {
        "id": "c_Sy60DnwN-W",
        "colab_type": "code",
        "colab": {}
      },
      "source": [
        "urlX = 'https://raw.githubusercontent.com/danglive/3D-reconstruction/master/Xcoord.txt'\n",
        "urlY = 'https://raw.githubusercontent.com/danglive/3D-reconstruction/master/Ycoord.txt'"
      ],
      "execution_count": 0,
      "outputs": []
    },
    {
      "cell_type": "code",
      "metadata": {
        "id": "3HNJZFAHwnQE",
        "colab_type": "code",
        "colab": {}
      },
      "source": [
        "X = np.loadtxt(urlX)\n",
        "Y = np.loadtxt(urlY)"
      ],
      "execution_count": 0,
      "outputs": []
    },
    {
      "cell_type": "code",
      "metadata": {
        "id": "g1EvCv8MxJ32",
        "colab_type": "code",
        "colab": {}
      },
      "source": [
        "def obj(x,Ax,Thx,Tx,Ty,X,Y):\n",
        "  Nprj = 54\n",
        "  P = Global_matrix(Ax,Thx,Tx,Ty)\n",
        "  rePro = P.dot(x)\n",
        "  reX = np.zeros(X.shape)\n",
        "  reY = np.zeros(Y.shape)\n",
        "  for i in range(Nprj):\n",
        "    reX[i,:] = rePro[3*i+0,:]\n",
        "    reY[i,:] = rePro[3*i+1,:]\n",
        "  resX = (reX - X).ravel()\n",
        "  resY = (reY - Y).ravel()\n",
        "  Point = np.array([resX, resY])\n",
        "  norm  = np.linalg.norm(Point,axis=0)\n",
        "  loss = np.mean(norm)\n",
        "  return loss"
      ],
      "execution_count": 0,
      "outputs": []
    },
    {
      "cell_type": "code",
      "metadata": {
        "id": "zCoA3fQFz6HA",
        "colab_type": "code",
        "colab": {}
      },
      "source": [
        "x=np.random.rand(4,200)"
      ],
      "execution_count": 0,
      "outputs": []
    },
    {
      "cell_type": "code",
      "metadata": {
        "id": "waHmH2Rt2y8k",
        "colab_type": "code",
        "colab": {}
      },
      "source": [
        "f=obj(x,Alpha,Phi,Tx,Ty,X,Y)"
      ],
      "execution_count": 0,
      "outputs": []
    },
    {
      "cell_type": "code",
      "metadata": {
        "id": "WOQjnPXYCnrF",
        "colab_type": "code",
        "colab": {}
      },
      "source": [
        "Alpha_max, Alpha_min = 1, -1\n",
        "Phi_max, Phi_min = 4, -4\n",
        "Tx_max, Tx_min = 5,-5\n",
        "Ty_max, Ty_min = 5,-5"
      ],
      "execution_count": 0,
      "outputs": []
    },
    {
      "cell_type": "code",
      "metadata": {
        "id": "R9-Tq4BBDays",
        "colab_type": "code",
        "colab": {}
      },
      "source": [
        ""
      ],
      "execution_count": 0,
      "outputs": []
    }
  ]
}